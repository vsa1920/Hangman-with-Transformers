{
  "nbformat": 4,
  "nbformat_minor": 0,
  "metadata": {
    "colab": {
      "provenance": [],
      "gpuType": "L4",
      "machine_shape": "hm"
    },
    "kernelspec": {
      "name": "python3",
      "display_name": "Python 3"
    },
    "language_info": {
      "name": "python"
    },
    "accelerator": "GPU",
    "widgets": {
      "application/vnd.jupyter.widget-state+json": {
        "4890413f32a643acb5b77f61d4e56bab": {
          "model_module": "@jupyter-widgets/controls",
          "model_name": "HBoxModel",
          "model_module_version": "1.5.0",
          "state": {
            "_dom_classes": [],
            "_model_module": "@jupyter-widgets/controls",
            "_model_module_version": "1.5.0",
            "_model_name": "HBoxModel",
            "_view_count": null,
            "_view_module": "@jupyter-widgets/controls",
            "_view_module_version": "1.5.0",
            "_view_name": "HBoxView",
            "box_style": "",
            "children": [
              "IPY_MODEL_d57e2643985b4edd9ac4c6c9640343a5",
              "IPY_MODEL_b5c3dc0d1ec246958c19aa9272f76749",
              "IPY_MODEL_c47812b8dc6c40b69945f1319f3420f8"
            ],
            "layout": "IPY_MODEL_74adf8f49ae94c28bb62260ff14bb1af"
          }
        },
        "d57e2643985b4edd9ac4c6c9640343a5": {
          "model_module": "@jupyter-widgets/controls",
          "model_name": "HTMLModel",
          "model_module_version": "1.5.0",
          "state": {
            "_dom_classes": [],
            "_model_module": "@jupyter-widgets/controls",
            "_model_module_version": "1.5.0",
            "_model_name": "HTMLModel",
            "_view_count": null,
            "_view_module": "@jupyter-widgets/controls",
            "_view_module_version": "1.5.0",
            "_view_name": "HTMLView",
            "description": "",
            "description_tooltip": null,
            "layout": "IPY_MODEL_822fcf8c6be44fbb9d6cb0ed6ed3da7e",
            "placeholder": "​",
            "style": "IPY_MODEL_84a5479d4faf41858107fdeb72630730",
            "value": "tokenizer_config.json: 100%"
          }
        },
        "b5c3dc0d1ec246958c19aa9272f76749": {
          "model_module": "@jupyter-widgets/controls",
          "model_name": "FloatProgressModel",
          "model_module_version": "1.5.0",
          "state": {
            "_dom_classes": [],
            "_model_module": "@jupyter-widgets/controls",
            "_model_module_version": "1.5.0",
            "_model_name": "FloatProgressModel",
            "_view_count": null,
            "_view_module": "@jupyter-widgets/controls",
            "_view_module_version": "1.5.0",
            "_view_name": "ProgressView",
            "bar_style": "success",
            "description": "",
            "description_tooltip": null,
            "layout": "IPY_MODEL_742f2d89bdf54a7dbf5b96692196e12a",
            "max": 854,
            "min": 0,
            "orientation": "horizontal",
            "style": "IPY_MODEL_81d8c89c118147d0b9944825056a478c",
            "value": 854
          }
        },
        "c47812b8dc6c40b69945f1319f3420f8": {
          "model_module": "@jupyter-widgets/controls",
          "model_name": "HTMLModel",
          "model_module_version": "1.5.0",
          "state": {
            "_dom_classes": [],
            "_model_module": "@jupyter-widgets/controls",
            "_model_module_version": "1.5.0",
            "_model_name": "HTMLModel",
            "_view_count": null,
            "_view_module": "@jupyter-widgets/controls",
            "_view_module_version": "1.5.0",
            "_view_name": "HTMLView",
            "description": "",
            "description_tooltip": null,
            "layout": "IPY_MODEL_52003f8d7f40430eb89000ca5495aafd",
            "placeholder": "​",
            "style": "IPY_MODEL_7cf7698002154589a45b8633078ad077",
            "value": " 854/854 [00:00&lt;00:00, 66.9kB/s]"
          }
        },
        "74adf8f49ae94c28bb62260ff14bb1af": {
          "model_module": "@jupyter-widgets/base",
          "model_name": "LayoutModel",
          "model_module_version": "1.2.0",
          "state": {
            "_model_module": "@jupyter-widgets/base",
            "_model_module_version": "1.2.0",
            "_model_name": "LayoutModel",
            "_view_count": null,
            "_view_module": "@jupyter-widgets/base",
            "_view_module_version": "1.2.0",
            "_view_name": "LayoutView",
            "align_content": null,
            "align_items": null,
            "align_self": null,
            "border": null,
            "bottom": null,
            "display": null,
            "flex": null,
            "flex_flow": null,
            "grid_area": null,
            "grid_auto_columns": null,
            "grid_auto_flow": null,
            "grid_auto_rows": null,
            "grid_column": null,
            "grid_gap": null,
            "grid_row": null,
            "grid_template_areas": null,
            "grid_template_columns": null,
            "grid_template_rows": null,
            "height": null,
            "justify_content": null,
            "justify_items": null,
            "left": null,
            "margin": null,
            "max_height": null,
            "max_width": null,
            "min_height": null,
            "min_width": null,
            "object_fit": null,
            "object_position": null,
            "order": null,
            "overflow": null,
            "overflow_x": null,
            "overflow_y": null,
            "padding": null,
            "right": null,
            "top": null,
            "visibility": null,
            "width": null
          }
        },
        "822fcf8c6be44fbb9d6cb0ed6ed3da7e": {
          "model_module": "@jupyter-widgets/base",
          "model_name": "LayoutModel",
          "model_module_version": "1.2.0",
          "state": {
            "_model_module": "@jupyter-widgets/base",
            "_model_module_version": "1.2.0",
            "_model_name": "LayoutModel",
            "_view_count": null,
            "_view_module": "@jupyter-widgets/base",
            "_view_module_version": "1.2.0",
            "_view_name": "LayoutView",
            "align_content": null,
            "align_items": null,
            "align_self": null,
            "border": null,
            "bottom": null,
            "display": null,
            "flex": null,
            "flex_flow": null,
            "grid_area": null,
            "grid_auto_columns": null,
            "grid_auto_flow": null,
            "grid_auto_rows": null,
            "grid_column": null,
            "grid_gap": null,
            "grid_row": null,
            "grid_template_areas": null,
            "grid_template_columns": null,
            "grid_template_rows": null,
            "height": null,
            "justify_content": null,
            "justify_items": null,
            "left": null,
            "margin": null,
            "max_height": null,
            "max_width": null,
            "min_height": null,
            "min_width": null,
            "object_fit": null,
            "object_position": null,
            "order": null,
            "overflow": null,
            "overflow_x": null,
            "overflow_y": null,
            "padding": null,
            "right": null,
            "top": null,
            "visibility": null,
            "width": null
          }
        },
        "84a5479d4faf41858107fdeb72630730": {
          "model_module": "@jupyter-widgets/controls",
          "model_name": "DescriptionStyleModel",
          "model_module_version": "1.5.0",
          "state": {
            "_model_module": "@jupyter-widgets/controls",
            "_model_module_version": "1.5.0",
            "_model_name": "DescriptionStyleModel",
            "_view_count": null,
            "_view_module": "@jupyter-widgets/base",
            "_view_module_version": "1.2.0",
            "_view_name": "StyleView",
            "description_width": ""
          }
        },
        "742f2d89bdf54a7dbf5b96692196e12a": {
          "model_module": "@jupyter-widgets/base",
          "model_name": "LayoutModel",
          "model_module_version": "1.2.0",
          "state": {
            "_model_module": "@jupyter-widgets/base",
            "_model_module_version": "1.2.0",
            "_model_name": "LayoutModel",
            "_view_count": null,
            "_view_module": "@jupyter-widgets/base",
            "_view_module_version": "1.2.0",
            "_view_name": "LayoutView",
            "align_content": null,
            "align_items": null,
            "align_self": null,
            "border": null,
            "bottom": null,
            "display": null,
            "flex": null,
            "flex_flow": null,
            "grid_area": null,
            "grid_auto_columns": null,
            "grid_auto_flow": null,
            "grid_auto_rows": null,
            "grid_column": null,
            "grid_gap": null,
            "grid_row": null,
            "grid_template_areas": null,
            "grid_template_columns": null,
            "grid_template_rows": null,
            "height": null,
            "justify_content": null,
            "justify_items": null,
            "left": null,
            "margin": null,
            "max_height": null,
            "max_width": null,
            "min_height": null,
            "min_width": null,
            "object_fit": null,
            "object_position": null,
            "order": null,
            "overflow": null,
            "overflow_x": null,
            "overflow_y": null,
            "padding": null,
            "right": null,
            "top": null,
            "visibility": null,
            "width": null
          }
        },
        "81d8c89c118147d0b9944825056a478c": {
          "model_module": "@jupyter-widgets/controls",
          "model_name": "ProgressStyleModel",
          "model_module_version": "1.5.0",
          "state": {
            "_model_module": "@jupyter-widgets/controls",
            "_model_module_version": "1.5.0",
            "_model_name": "ProgressStyleModel",
            "_view_count": null,
            "_view_module": "@jupyter-widgets/base",
            "_view_module_version": "1.2.0",
            "_view_name": "StyleView",
            "bar_color": null,
            "description_width": ""
          }
        },
        "52003f8d7f40430eb89000ca5495aafd": {
          "model_module": "@jupyter-widgets/base",
          "model_name": "LayoutModel",
          "model_module_version": "1.2.0",
          "state": {
            "_model_module": "@jupyter-widgets/base",
            "_model_module_version": "1.2.0",
            "_model_name": "LayoutModel",
            "_view_count": null,
            "_view_module": "@jupyter-widgets/base",
            "_view_module_version": "1.2.0",
            "_view_name": "LayoutView",
            "align_content": null,
            "align_items": null,
            "align_self": null,
            "border": null,
            "bottom": null,
            "display": null,
            "flex": null,
            "flex_flow": null,
            "grid_area": null,
            "grid_auto_columns": null,
            "grid_auto_flow": null,
            "grid_auto_rows": null,
            "grid_column": null,
            "grid_gap": null,
            "grid_row": null,
            "grid_template_areas": null,
            "grid_template_columns": null,
            "grid_template_rows": null,
            "height": null,
            "justify_content": null,
            "justify_items": null,
            "left": null,
            "margin": null,
            "max_height": null,
            "max_width": null,
            "min_height": null,
            "min_width": null,
            "object_fit": null,
            "object_position": null,
            "order": null,
            "overflow": null,
            "overflow_x": null,
            "overflow_y": null,
            "padding": null,
            "right": null,
            "top": null,
            "visibility": null,
            "width": null
          }
        },
        "7cf7698002154589a45b8633078ad077": {
          "model_module": "@jupyter-widgets/controls",
          "model_name": "DescriptionStyleModel",
          "model_module_version": "1.5.0",
          "state": {
            "_model_module": "@jupyter-widgets/controls",
            "_model_module_version": "1.5.0",
            "_model_name": "DescriptionStyleModel",
            "_view_count": null,
            "_view_module": "@jupyter-widgets/base",
            "_view_module_version": "1.2.0",
            "_view_name": "StyleView",
            "description_width": ""
          }
        },
        "7c950b2dc0d44f0290abe5697485fb70": {
          "model_module": "@jupyter-widgets/controls",
          "model_name": "HBoxModel",
          "model_module_version": "1.5.0",
          "state": {
            "_dom_classes": [],
            "_model_module": "@jupyter-widgets/controls",
            "_model_module_version": "1.5.0",
            "_model_name": "HBoxModel",
            "_view_count": null,
            "_view_module": "@jupyter-widgets/controls",
            "_view_module_version": "1.5.0",
            "_view_name": "HBoxView",
            "box_style": "",
            "children": [
              "IPY_MODEL_88e9975eb9a3412cb9d44edcd7d3b94c",
              "IPY_MODEL_8191b9f9b1c8488ba05142c0a70e6965",
              "IPY_MODEL_0b52b98b59fa499c983fd80ad81e181f"
            ],
            "layout": "IPY_MODEL_3e3c78231d964e90bb645354e5f92cbe"
          }
        },
        "88e9975eb9a3412cb9d44edcd7d3b94c": {
          "model_module": "@jupyter-widgets/controls",
          "model_name": "HTMLModel",
          "model_module_version": "1.5.0",
          "state": {
            "_dom_classes": [],
            "_model_module": "@jupyter-widgets/controls",
            "_model_module_version": "1.5.0",
            "_model_name": "HTMLModel",
            "_view_count": null,
            "_view_module": "@jupyter-widgets/controls",
            "_view_module_version": "1.5.0",
            "_view_name": "HTMLView",
            "description": "",
            "description_tooltip": null,
            "layout": "IPY_MODEL_195985c4765b48fd80f49cd3706b9fe2",
            "placeholder": "​",
            "style": "IPY_MODEL_f8437d9262fc40b09aa98780ca52e009",
            "value": "special_tokens_map.json: 100%"
          }
        },
        "8191b9f9b1c8488ba05142c0a70e6965": {
          "model_module": "@jupyter-widgets/controls",
          "model_name": "FloatProgressModel",
          "model_module_version": "1.5.0",
          "state": {
            "_dom_classes": [],
            "_model_module": "@jupyter-widgets/controls",
            "_model_module_version": "1.5.0",
            "_model_name": "FloatProgressModel",
            "_view_count": null,
            "_view_module": "@jupyter-widgets/controls",
            "_view_module_version": "1.5.0",
            "_view_name": "ProgressView",
            "bar_style": "success",
            "description": "",
            "description_tooltip": null,
            "layout": "IPY_MODEL_3135d988deb9403a87d3c92c2de90892",
            "max": 657,
            "min": 0,
            "orientation": "horizontal",
            "style": "IPY_MODEL_b3b4c3375d5d46749c1648121d9d558e",
            "value": 657
          }
        },
        "0b52b98b59fa499c983fd80ad81e181f": {
          "model_module": "@jupyter-widgets/controls",
          "model_name": "HTMLModel",
          "model_module_version": "1.5.0",
          "state": {
            "_dom_classes": [],
            "_model_module": "@jupyter-widgets/controls",
            "_model_module_version": "1.5.0",
            "_model_name": "HTMLModel",
            "_view_count": null,
            "_view_module": "@jupyter-widgets/controls",
            "_view_module_version": "1.5.0",
            "_view_name": "HTMLView",
            "description": "",
            "description_tooltip": null,
            "layout": "IPY_MODEL_893b930960764305811b8fe4e936bd71",
            "placeholder": "​",
            "style": "IPY_MODEL_d067c3c524a946abafa5336a26909d33",
            "value": " 657/657 [00:00&lt;00:00, 59.3kB/s]"
          }
        },
        "3e3c78231d964e90bb645354e5f92cbe": {
          "model_module": "@jupyter-widgets/base",
          "model_name": "LayoutModel",
          "model_module_version": "1.2.0",
          "state": {
            "_model_module": "@jupyter-widgets/base",
            "_model_module_version": "1.2.0",
            "_model_name": "LayoutModel",
            "_view_count": null,
            "_view_module": "@jupyter-widgets/base",
            "_view_module_version": "1.2.0",
            "_view_name": "LayoutView",
            "align_content": null,
            "align_items": null,
            "align_self": null,
            "border": null,
            "bottom": null,
            "display": null,
            "flex": null,
            "flex_flow": null,
            "grid_area": null,
            "grid_auto_columns": null,
            "grid_auto_flow": null,
            "grid_auto_rows": null,
            "grid_column": null,
            "grid_gap": null,
            "grid_row": null,
            "grid_template_areas": null,
            "grid_template_columns": null,
            "grid_template_rows": null,
            "height": null,
            "justify_content": null,
            "justify_items": null,
            "left": null,
            "margin": null,
            "max_height": null,
            "max_width": null,
            "min_height": null,
            "min_width": null,
            "object_fit": null,
            "object_position": null,
            "order": null,
            "overflow": null,
            "overflow_x": null,
            "overflow_y": null,
            "padding": null,
            "right": null,
            "top": null,
            "visibility": null,
            "width": null
          }
        },
        "195985c4765b48fd80f49cd3706b9fe2": {
          "model_module": "@jupyter-widgets/base",
          "model_name": "LayoutModel",
          "model_module_version": "1.2.0",
          "state": {
            "_model_module": "@jupyter-widgets/base",
            "_model_module_version": "1.2.0",
            "_model_name": "LayoutModel",
            "_view_count": null,
            "_view_module": "@jupyter-widgets/base",
            "_view_module_version": "1.2.0",
            "_view_name": "LayoutView",
            "align_content": null,
            "align_items": null,
            "align_self": null,
            "border": null,
            "bottom": null,
            "display": null,
            "flex": null,
            "flex_flow": null,
            "grid_area": null,
            "grid_auto_columns": null,
            "grid_auto_flow": null,
            "grid_auto_rows": null,
            "grid_column": null,
            "grid_gap": null,
            "grid_row": null,
            "grid_template_areas": null,
            "grid_template_columns": null,
            "grid_template_rows": null,
            "height": null,
            "justify_content": null,
            "justify_items": null,
            "left": null,
            "margin": null,
            "max_height": null,
            "max_width": null,
            "min_height": null,
            "min_width": null,
            "object_fit": null,
            "object_position": null,
            "order": null,
            "overflow": null,
            "overflow_x": null,
            "overflow_y": null,
            "padding": null,
            "right": null,
            "top": null,
            "visibility": null,
            "width": null
          }
        },
        "f8437d9262fc40b09aa98780ca52e009": {
          "model_module": "@jupyter-widgets/controls",
          "model_name": "DescriptionStyleModel",
          "model_module_version": "1.5.0",
          "state": {
            "_model_module": "@jupyter-widgets/controls",
            "_model_module_version": "1.5.0",
            "_model_name": "DescriptionStyleModel",
            "_view_count": null,
            "_view_module": "@jupyter-widgets/base",
            "_view_module_version": "1.2.0",
            "_view_name": "StyleView",
            "description_width": ""
          }
        },
        "3135d988deb9403a87d3c92c2de90892": {
          "model_module": "@jupyter-widgets/base",
          "model_name": "LayoutModel",
          "model_module_version": "1.2.0",
          "state": {
            "_model_module": "@jupyter-widgets/base",
            "_model_module_version": "1.2.0",
            "_model_name": "LayoutModel",
            "_view_count": null,
            "_view_module": "@jupyter-widgets/base",
            "_view_module_version": "1.2.0",
            "_view_name": "LayoutView",
            "align_content": null,
            "align_items": null,
            "align_self": null,
            "border": null,
            "bottom": null,
            "display": null,
            "flex": null,
            "flex_flow": null,
            "grid_area": null,
            "grid_auto_columns": null,
            "grid_auto_flow": null,
            "grid_auto_rows": null,
            "grid_column": null,
            "grid_gap": null,
            "grid_row": null,
            "grid_template_areas": null,
            "grid_template_columns": null,
            "grid_template_rows": null,
            "height": null,
            "justify_content": null,
            "justify_items": null,
            "left": null,
            "margin": null,
            "max_height": null,
            "max_width": null,
            "min_height": null,
            "min_width": null,
            "object_fit": null,
            "object_position": null,
            "order": null,
            "overflow": null,
            "overflow_x": null,
            "overflow_y": null,
            "padding": null,
            "right": null,
            "top": null,
            "visibility": null,
            "width": null
          }
        },
        "b3b4c3375d5d46749c1648121d9d558e": {
          "model_module": "@jupyter-widgets/controls",
          "model_name": "ProgressStyleModel",
          "model_module_version": "1.5.0",
          "state": {
            "_model_module": "@jupyter-widgets/controls",
            "_model_module_version": "1.5.0",
            "_model_name": "ProgressStyleModel",
            "_view_count": null,
            "_view_module": "@jupyter-widgets/base",
            "_view_module_version": "1.2.0",
            "_view_name": "StyleView",
            "bar_color": null,
            "description_width": ""
          }
        },
        "893b930960764305811b8fe4e936bd71": {
          "model_module": "@jupyter-widgets/base",
          "model_name": "LayoutModel",
          "model_module_version": "1.2.0",
          "state": {
            "_model_module": "@jupyter-widgets/base",
            "_model_module_version": "1.2.0",
            "_model_name": "LayoutModel",
            "_view_count": null,
            "_view_module": "@jupyter-widgets/base",
            "_view_module_version": "1.2.0",
            "_view_name": "LayoutView",
            "align_content": null,
            "align_items": null,
            "align_self": null,
            "border": null,
            "bottom": null,
            "display": null,
            "flex": null,
            "flex_flow": null,
            "grid_area": null,
            "grid_auto_columns": null,
            "grid_auto_flow": null,
            "grid_auto_rows": null,
            "grid_column": null,
            "grid_gap": null,
            "grid_row": null,
            "grid_template_areas": null,
            "grid_template_columns": null,
            "grid_template_rows": null,
            "height": null,
            "justify_content": null,
            "justify_items": null,
            "left": null,
            "margin": null,
            "max_height": null,
            "max_width": null,
            "min_height": null,
            "min_width": null,
            "object_fit": null,
            "object_position": null,
            "order": null,
            "overflow": null,
            "overflow_x": null,
            "overflow_y": null,
            "padding": null,
            "right": null,
            "top": null,
            "visibility": null,
            "width": null
          }
        },
        "d067c3c524a946abafa5336a26909d33": {
          "model_module": "@jupyter-widgets/controls",
          "model_name": "DescriptionStyleModel",
          "model_module_version": "1.5.0",
          "state": {
            "_model_module": "@jupyter-widgets/controls",
            "_model_module_version": "1.5.0",
            "_model_name": "DescriptionStyleModel",
            "_view_count": null,
            "_view_module": "@jupyter-widgets/base",
            "_view_module_version": "1.2.0",
            "_view_name": "StyleView",
            "description_width": ""
          }
        },
        "1010c355d0a94803a156134fa935be6d": {
          "model_module": "@jupyter-widgets/controls",
          "model_name": "HBoxModel",
          "model_module_version": "1.5.0",
          "state": {
            "_dom_classes": [],
            "_model_module": "@jupyter-widgets/controls",
            "_model_module_version": "1.5.0",
            "_model_name": "HBoxModel",
            "_view_count": null,
            "_view_module": "@jupyter-widgets/controls",
            "_view_module_version": "1.5.0",
            "_view_name": "HBoxView",
            "box_style": "",
            "children": [
              "IPY_MODEL_8d85b378a0b244c3964245add6d9f881",
              "IPY_MODEL_0c51e7747e49477a98bc22e8ac5adff3",
              "IPY_MODEL_20e98a0e656e400f92f5197d4a78fe16"
            ],
            "layout": "IPY_MODEL_867b2388cff4464d84f79268bfca0923"
          }
        },
        "8d85b378a0b244c3964245add6d9f881": {
          "model_module": "@jupyter-widgets/controls",
          "model_name": "HTMLModel",
          "model_module_version": "1.5.0",
          "state": {
            "_dom_classes": [],
            "_model_module": "@jupyter-widgets/controls",
            "_model_module_version": "1.5.0",
            "_model_name": "HTMLModel",
            "_view_count": null,
            "_view_module": "@jupyter-widgets/controls",
            "_view_module_version": "1.5.0",
            "_view_name": "HTMLView",
            "description": "",
            "description_tooltip": null,
            "layout": "IPY_MODEL_79ed574177fe46b0bfc5d68ccd15b4ac",
            "placeholder": "​",
            "style": "IPY_MODEL_1485e76b8a1540bfbcca3458b396a004",
            "value": "config.json: 100%"
          }
        },
        "0c51e7747e49477a98bc22e8ac5adff3": {
          "model_module": "@jupyter-widgets/controls",
          "model_name": "FloatProgressModel",
          "model_module_version": "1.5.0",
          "state": {
            "_dom_classes": [],
            "_model_module": "@jupyter-widgets/controls",
            "_model_module_version": "1.5.0",
            "_model_name": "FloatProgressModel",
            "_view_count": null,
            "_view_module": "@jupyter-widgets/controls",
            "_view_module_version": "1.5.0",
            "_view_name": "ProgressView",
            "bar_style": "success",
            "description": "",
            "description_tooltip": null,
            "layout": "IPY_MODEL_1e0bd66875094789ae2ae183467e60c4",
            "max": 670,
            "min": 0,
            "orientation": "horizontal",
            "style": "IPY_MODEL_c2ea733a0a254c6c8a815a24a8b41274",
            "value": 670
          }
        },
        "20e98a0e656e400f92f5197d4a78fe16": {
          "model_module": "@jupyter-widgets/controls",
          "model_name": "HTMLModel",
          "model_module_version": "1.5.0",
          "state": {
            "_dom_classes": [],
            "_model_module": "@jupyter-widgets/controls",
            "_model_module_version": "1.5.0",
            "_model_name": "HTMLModel",
            "_view_count": null,
            "_view_module": "@jupyter-widgets/controls",
            "_view_module_version": "1.5.0",
            "_view_name": "HTMLView",
            "description": "",
            "description_tooltip": null,
            "layout": "IPY_MODEL_2ac0e2630c194763bf77b3d531dbbbac",
            "placeholder": "​",
            "style": "IPY_MODEL_9a96f6e6fda64b358299851aa420bb25",
            "value": " 670/670 [00:00&lt;00:00, 58.5kB/s]"
          }
        },
        "867b2388cff4464d84f79268bfca0923": {
          "model_module": "@jupyter-widgets/base",
          "model_name": "LayoutModel",
          "model_module_version": "1.2.0",
          "state": {
            "_model_module": "@jupyter-widgets/base",
            "_model_module_version": "1.2.0",
            "_model_name": "LayoutModel",
            "_view_count": null,
            "_view_module": "@jupyter-widgets/base",
            "_view_module_version": "1.2.0",
            "_view_name": "LayoutView",
            "align_content": null,
            "align_items": null,
            "align_self": null,
            "border": null,
            "bottom": null,
            "display": null,
            "flex": null,
            "flex_flow": null,
            "grid_area": null,
            "grid_auto_columns": null,
            "grid_auto_flow": null,
            "grid_auto_rows": null,
            "grid_column": null,
            "grid_gap": null,
            "grid_row": null,
            "grid_template_areas": null,
            "grid_template_columns": null,
            "grid_template_rows": null,
            "height": null,
            "justify_content": null,
            "justify_items": null,
            "left": null,
            "margin": null,
            "max_height": null,
            "max_width": null,
            "min_height": null,
            "min_width": null,
            "object_fit": null,
            "object_position": null,
            "order": null,
            "overflow": null,
            "overflow_x": null,
            "overflow_y": null,
            "padding": null,
            "right": null,
            "top": null,
            "visibility": null,
            "width": null
          }
        },
        "79ed574177fe46b0bfc5d68ccd15b4ac": {
          "model_module": "@jupyter-widgets/base",
          "model_name": "LayoutModel",
          "model_module_version": "1.2.0",
          "state": {
            "_model_module": "@jupyter-widgets/base",
            "_model_module_version": "1.2.0",
            "_model_name": "LayoutModel",
            "_view_count": null,
            "_view_module": "@jupyter-widgets/base",
            "_view_module_version": "1.2.0",
            "_view_name": "LayoutView",
            "align_content": null,
            "align_items": null,
            "align_self": null,
            "border": null,
            "bottom": null,
            "display": null,
            "flex": null,
            "flex_flow": null,
            "grid_area": null,
            "grid_auto_columns": null,
            "grid_auto_flow": null,
            "grid_auto_rows": null,
            "grid_column": null,
            "grid_gap": null,
            "grid_row": null,
            "grid_template_areas": null,
            "grid_template_columns": null,
            "grid_template_rows": null,
            "height": null,
            "justify_content": null,
            "justify_items": null,
            "left": null,
            "margin": null,
            "max_height": null,
            "max_width": null,
            "min_height": null,
            "min_width": null,
            "object_fit": null,
            "object_position": null,
            "order": null,
            "overflow": null,
            "overflow_x": null,
            "overflow_y": null,
            "padding": null,
            "right": null,
            "top": null,
            "visibility": null,
            "width": null
          }
        },
        "1485e76b8a1540bfbcca3458b396a004": {
          "model_module": "@jupyter-widgets/controls",
          "model_name": "DescriptionStyleModel",
          "model_module_version": "1.5.0",
          "state": {
            "_model_module": "@jupyter-widgets/controls",
            "_model_module_version": "1.5.0",
            "_model_name": "DescriptionStyleModel",
            "_view_count": null,
            "_view_module": "@jupyter-widgets/base",
            "_view_module_version": "1.2.0",
            "_view_name": "StyleView",
            "description_width": ""
          }
        },
        "1e0bd66875094789ae2ae183467e60c4": {
          "model_module": "@jupyter-widgets/base",
          "model_name": "LayoutModel",
          "model_module_version": "1.2.0",
          "state": {
            "_model_module": "@jupyter-widgets/base",
            "_model_module_version": "1.2.0",
            "_model_name": "LayoutModel",
            "_view_count": null,
            "_view_module": "@jupyter-widgets/base",
            "_view_module_version": "1.2.0",
            "_view_name": "LayoutView",
            "align_content": null,
            "align_items": null,
            "align_self": null,
            "border": null,
            "bottom": null,
            "display": null,
            "flex": null,
            "flex_flow": null,
            "grid_area": null,
            "grid_auto_columns": null,
            "grid_auto_flow": null,
            "grid_auto_rows": null,
            "grid_column": null,
            "grid_gap": null,
            "grid_row": null,
            "grid_template_areas": null,
            "grid_template_columns": null,
            "grid_template_rows": null,
            "height": null,
            "justify_content": null,
            "justify_items": null,
            "left": null,
            "margin": null,
            "max_height": null,
            "max_width": null,
            "min_height": null,
            "min_width": null,
            "object_fit": null,
            "object_position": null,
            "order": null,
            "overflow": null,
            "overflow_x": null,
            "overflow_y": null,
            "padding": null,
            "right": null,
            "top": null,
            "visibility": null,
            "width": null
          }
        },
        "c2ea733a0a254c6c8a815a24a8b41274": {
          "model_module": "@jupyter-widgets/controls",
          "model_name": "ProgressStyleModel",
          "model_module_version": "1.5.0",
          "state": {
            "_model_module": "@jupyter-widgets/controls",
            "_model_module_version": "1.5.0",
            "_model_name": "ProgressStyleModel",
            "_view_count": null,
            "_view_module": "@jupyter-widgets/base",
            "_view_module_version": "1.2.0",
            "_view_name": "StyleView",
            "bar_color": null,
            "description_width": ""
          }
        },
        "2ac0e2630c194763bf77b3d531dbbbac": {
          "model_module": "@jupyter-widgets/base",
          "model_name": "LayoutModel",
          "model_module_version": "1.2.0",
          "state": {
            "_model_module": "@jupyter-widgets/base",
            "_model_module_version": "1.2.0",
            "_model_name": "LayoutModel",
            "_view_count": null,
            "_view_module": "@jupyter-widgets/base",
            "_view_module_version": "1.2.0",
            "_view_name": "LayoutView",
            "align_content": null,
            "align_items": null,
            "align_self": null,
            "border": null,
            "bottom": null,
            "display": null,
            "flex": null,
            "flex_flow": null,
            "grid_area": null,
            "grid_auto_columns": null,
            "grid_auto_flow": null,
            "grid_auto_rows": null,
            "grid_column": null,
            "grid_gap": null,
            "grid_row": null,
            "grid_template_areas": null,
            "grid_template_columns": null,
            "grid_template_rows": null,
            "height": null,
            "justify_content": null,
            "justify_items": null,
            "left": null,
            "margin": null,
            "max_height": null,
            "max_width": null,
            "min_height": null,
            "min_width": null,
            "object_fit": null,
            "object_position": null,
            "order": null,
            "overflow": null,
            "overflow_x": null,
            "overflow_y": null,
            "padding": null,
            "right": null,
            "top": null,
            "visibility": null,
            "width": null
          }
        },
        "9a96f6e6fda64b358299851aa420bb25": {
          "model_module": "@jupyter-widgets/controls",
          "model_name": "DescriptionStyleModel",
          "model_module_version": "1.5.0",
          "state": {
            "_model_module": "@jupyter-widgets/controls",
            "_model_module_version": "1.5.0",
            "_model_name": "DescriptionStyleModel",
            "_view_count": null,
            "_view_module": "@jupyter-widgets/base",
            "_view_module_version": "1.2.0",
            "_view_name": "StyleView",
            "description_width": ""
          }
        }
      }
    }
  },
  "cells": [
    {
      "cell_type": "markdown",
      "source": [
        "# A demo and analysis of Google CANINE-s transformer playing Hangman"
      ],
      "metadata": {
        "id": "FvxVlgFEH1Dj"
      }
    },
    {
      "cell_type": "markdown",
      "source": [
        "In this project, I have trained a character based LLM, Google's Canine-S transformer [1] from random initialisation and fine-tuned it using self-play to achieve optimal game-winning performance.\n",
        "\n",
        "\n",
        "[1] - Clark, Jonathan H., Garrette, Dan, Turc, Iulia, and Wieting, John. \"Canine: Pre-training an Efficient Tokenization-Free Encoder for Language Representation.\" Transactions of the Association for Computational Linguistics, vol. 10, pp. 73-91, Jan. 2022. DOI: 10.1162/tacl_a_00448. URL: https://doi.org/10.1162/tacl_a_00448."
      ],
      "metadata": {
        "id": "QZPJ4IMfJ7lZ"
      }
    },
    {
      "cell_type": "code",
      "execution_count": 1,
      "metadata": {
        "colab": {
          "base_uri": "https://localhost:8080/"
        },
        "id": "cmg8eVpRGdj7",
        "outputId": "2cf50113-bd13-449f-f4b4-810cffed5e58"
      },
      "outputs": [
        {
          "output_type": "stream",
          "name": "stdout",
          "text": [
            "Downloading...\n",
            "From (original): https://drive.google.com/uc?id=1FL3Un_8ub82x0xWV8BCn7Bf8UGt4dhBT\n",
            "From (redirected): https://drive.google.com/uc?id=1FL3Un_8ub82x0xWV8BCn7Bf8UGt4dhBT&confirm=t&uuid=8ea2b72e-909c-4461-9261-e49f3dae6567\n",
            "To: /content/canine_best_model.tar.gz\n",
            "100% 490M/490M [00:09<00:00, 50.9MB/s]\n"
          ]
        }
      ],
      "source": [
        "# Download the best model\n",
        "!gdown 1FL3Un_8ub82x0xWV8BCn7Bf8UGt4dhBT"
      ]
    },
    {
      "cell_type": "code",
      "source": [
        "# Extract the model from the tar zipped file\n",
        "!tar -xvzf canine_best_model.tar.gz"
      ],
      "metadata": {
        "colab": {
          "base_uri": "https://localhost:8080/"
        },
        "id": "ai5qnYoyG0SZ",
        "outputId": "2e64e979-fcef-4ff3-a23d-e70edc0a552a"
      },
      "execution_count": 2,
      "outputs": [
        {
          "output_type": "stream",
          "name": "stdout",
          "text": [
            "canine_best_model/\n",
            "canine_best_model/config.json\n",
            "canine_best_model/model.safetensors\n"
          ]
        }
      ]
    },
    {
      "cell_type": "code",
      "source": [
        "from transformers import CanineTokenizer, AutoModelForSequenceClassification\n",
        "import torch\n",
        "import numpy as np\n",
        "from tqdm import tqdm\n",
        "tokenizer = CanineTokenizer.from_pretrained('google/canine-s')"
      ],
      "metadata": {
        "id": "5mft2wF3HAcb",
        "colab": {
          "base_uri": "https://localhost:8080/",
          "height": 240,
          "referenced_widgets": [
            "4890413f32a643acb5b77f61d4e56bab",
            "d57e2643985b4edd9ac4c6c9640343a5",
            "b5c3dc0d1ec246958c19aa9272f76749",
            "c47812b8dc6c40b69945f1319f3420f8",
            "74adf8f49ae94c28bb62260ff14bb1af",
            "822fcf8c6be44fbb9d6cb0ed6ed3da7e",
            "84a5479d4faf41858107fdeb72630730",
            "742f2d89bdf54a7dbf5b96692196e12a",
            "81d8c89c118147d0b9944825056a478c",
            "52003f8d7f40430eb89000ca5495aafd",
            "7cf7698002154589a45b8633078ad077",
            "7c950b2dc0d44f0290abe5697485fb70",
            "88e9975eb9a3412cb9d44edcd7d3b94c",
            "8191b9f9b1c8488ba05142c0a70e6965",
            "0b52b98b59fa499c983fd80ad81e181f",
            "3e3c78231d964e90bb645354e5f92cbe",
            "195985c4765b48fd80f49cd3706b9fe2",
            "f8437d9262fc40b09aa98780ca52e009",
            "3135d988deb9403a87d3c92c2de90892",
            "b3b4c3375d5d46749c1648121d9d558e",
            "893b930960764305811b8fe4e936bd71",
            "d067c3c524a946abafa5336a26909d33",
            "1010c355d0a94803a156134fa935be6d",
            "8d85b378a0b244c3964245add6d9f881",
            "0c51e7747e49477a98bc22e8ac5adff3",
            "20e98a0e656e400f92f5197d4a78fe16",
            "867b2388cff4464d84f79268bfca0923",
            "79ed574177fe46b0bfc5d68ccd15b4ac",
            "1485e76b8a1540bfbcca3458b396a004",
            "1e0bd66875094789ae2ae183467e60c4",
            "c2ea733a0a254c6c8a815a24a8b41274",
            "2ac0e2630c194763bf77b3d531dbbbac",
            "9a96f6e6fda64b358299851aa420bb25"
          ]
        },
        "outputId": "689af2e6-b2da-4633-b34c-e08b97a12c8d"
      },
      "execution_count": 3,
      "outputs": [
        {
          "output_type": "stream",
          "name": "stderr",
          "text": [
            "/usr/local/lib/python3.10/dist-packages/huggingface_hub/utils/_token.py:88: UserWarning: \n",
            "The secret `HF_TOKEN` does not exist in your Colab secrets.\n",
            "To authenticate with the Hugging Face Hub, create a token in your settings tab (https://huggingface.co/settings/tokens), set it as secret in your Google Colab and restart your session.\n",
            "You will be able to reuse this secret in all of your notebooks.\n",
            "Please note that authentication is recommended but still optional to access public models or datasets.\n",
            "  warnings.warn(\n"
          ]
        },
        {
          "output_type": "display_data",
          "data": {
            "text/plain": [
              "tokenizer_config.json:   0%|          | 0.00/854 [00:00<?, ?B/s]"
            ],
            "application/vnd.jupyter.widget-view+json": {
              "version_major": 2,
              "version_minor": 0,
              "model_id": "4890413f32a643acb5b77f61d4e56bab"
            }
          },
          "metadata": {}
        },
        {
          "output_type": "display_data",
          "data": {
            "text/plain": [
              "special_tokens_map.json:   0%|          | 0.00/657 [00:00<?, ?B/s]"
            ],
            "application/vnd.jupyter.widget-view+json": {
              "version_major": 2,
              "version_minor": 0,
              "model_id": "7c950b2dc0d44f0290abe5697485fb70"
            }
          },
          "metadata": {}
        },
        {
          "output_type": "display_data",
          "data": {
            "text/plain": [
              "config.json:   0%|          | 0.00/670 [00:00<?, ?B/s]"
            ],
            "application/vnd.jupyter.widget-view+json": {
              "version_major": 2,
              "version_minor": 0,
              "model_id": "1010c355d0a94803a156134fa935be6d"
            }
          },
          "metadata": {}
        }
      ]
    },
    {
      "cell_type": "code",
      "source": [
        "# Tokens used in encoding the hangman states to text for input to the transformer\n",
        "CANINE_MASK_TOKEN = tokenizer.mask_token\n",
        "CANINE_SEP_TOKEN = tokenizer.sep_token"
      ],
      "metadata": {
        "id": "lzMkHB9bHrIH"
      },
      "execution_count": 4,
      "outputs": []
    },
    {
      "cell_type": "code",
      "source": [
        "def simulate_test_game(word, model, max_wrong_guesses=10, verbose=2):\n",
        "    '''\n",
        "    Play a game of hangman with the given word.\n",
        "    Inputs:\n",
        "    word: the word to guess\n",
        "    model: the model to use for the game\n",
        "    max_guesses: the maximum number of guesses allowed\n",
        "    Returns:\n",
        "    True if the word is guessed, False otherwise\n",
        "    '''\n",
        "    word_idxs = {}\n",
        "    all_letters = [chr(i) for i in range(ord('a'), ord('z') + 1)]\n",
        "    for i, c in enumerate(word):\n",
        "        if c not in word_idxs:\n",
        "            word_idxs[c] = []\n",
        "        word_idxs[c].append(i)\n",
        "    guesses = {}\n",
        "    encoded_word = \"*\" * len(word)\n",
        "    num_guesses = 0\n",
        "    while encoded_word != word and num_guesses < max_wrong_guesses:\n",
        "        state= ''.join(guesses.keys()) + CANINE_SEP_TOKEN + encoded_word.replace('*', CANINE_MASK_TOKEN)\n",
        "        encoded_state = tokenizer(state, padding=\"max_length\", truncation=True, return_tensors=\"pt\", max_length=64).to(device)\n",
        "        output = model(**encoded_state)\n",
        "        output = output.logits.cpu().detach().numpy()\n",
        "        guess_idx = np.argmax(output)\n",
        "        guess = all_letters[guess_idx]\n",
        "        while guess in guesses:\n",
        "            output[0][guess_idx] = -float('inf')\n",
        "            guess_idx = np.argmax(output)\n",
        "            guess = all_letters[guess_idx]\n",
        "        if guess in word_idxs:\n",
        "            for i in word_idxs[guess]:\n",
        "                encoded_word = encoded_word[:i] + guess + encoded_word[i + 1:]\n",
        "        else:\n",
        "            num_guesses += 1\n",
        "        guesses[guess] = True\n",
        "        if verbose == 2:\n",
        "            print(\"Guessing letter:\", guess)\n",
        "            print(\"Hangman state:\", encoded_word)\n",
        "            print(\"Number of wrong guesses:\", num_guesses)\n",
        "    if verbose > 0:\n",
        "        if encoded_word == word:\n",
        "            print(\"Correct word:\", word)\n",
        "            print(\"You win!\")\n",
        "        else:\n",
        "            print(f\"Correct word: {word}, Guessed word: {encoded_word}\")\n",
        "            print(\"You lose!\")\n",
        "    return encoded_word == word"
      ],
      "metadata": {
        "id": "6K-0PtVWHzVs"
      },
      "execution_count": 85,
      "outputs": []
    },
    {
      "cell_type": "code",
      "source": [
        "# Load the model\n",
        "device = torch.device(\"cuda\" if torch.cuda.is_available() else \"cpu\")\n",
        "trained_model = AutoModelForSequenceClassification.from_pretrained('./canine_best_model')\n",
        "_ = trained_model.to(device)"
      ],
      "metadata": {
        "id": "UzDgSKUzHvKy"
      },
      "execution_count": 6,
      "outputs": []
    },
    {
      "cell_type": "markdown",
      "source": [
        "Let's now download a text file full of words to evaluate the performance of our model."
      ],
      "metadata": {
        "id": "PJO2UobELfyk"
      }
    },
    {
      "cell_type": "code",
      "source": [
        "!gdown 1JHeYe4hATMLYb-zX7zIT-AlC0FLI5_zi"
      ],
      "metadata": {
        "id": "7sAhdOpLLXnk",
        "colab": {
          "base_uri": "https://localhost:8080/"
        },
        "outputId": "c8eb0756-75c2-4a46-fd9c-7595935ee24b"
      },
      "execution_count": 7,
      "outputs": [
        {
          "output_type": "stream",
          "name": "stdout",
          "text": [
            "Downloading...\n",
            "From: https://drive.google.com/uc?id=1JHeYe4hATMLYb-zX7zIT-AlC0FLI5_zi\n",
            "To: /content/test_words.txt\n",
            "\r  0% 0.00/52.1k [00:00<?, ?B/s]\r100% 52.1k/52.1k [00:00<00:00, 94.6MB/s]\n"
          ]
        }
      ]
    },
    {
      "cell_type": "code",
      "source": [
        "with open('test_words.txt', 'r') as f:\n",
        "    test_words = f.read().splitlines()"
      ],
      "metadata": {
        "id": "tsyyfup9LoQp"
      },
      "execution_count": 8,
      "outputs": []
    },
    {
      "cell_type": "markdown",
      "source": [
        "Run the following cell to get the accuracy of model on 1000 test words. This should take about 5 minutes with a T4 GPU. You can skip this step if you only want to play around with the model."
      ],
      "metadata": {
        "id": "ISOJ9mRINFIw"
      }
    },
    {
      "cell_type": "code",
      "source": [
        "total_correct = 0\n",
        "for i in tqdm(range(len(test_words[:1000]))):\n",
        "    word = test_words[i]\n",
        "    if simulate_test_game(word, trained_model, max_wrong_guesses=6, verbose=0):\n",
        "        total_correct += 1\n",
        "print(f\"\\nAccuracy: {total_correct / 1000}\")"
      ],
      "metadata": {
        "colab": {
          "base_uri": "https://localhost:8080/"
        },
        "id": "_gPLpP-NLyxS",
        "outputId": "b87778e7-12b1-4fba-f6cd-a1fe89705a52"
      },
      "execution_count": null,
      "outputs": [
        {
          "output_type": "stream",
          "name": "stderr",
          "text": [
            "100%|██████████| 1000/1000 [02:48<00:00,  5.92it/s]"
          ]
        },
        {
          "output_type": "stream",
          "name": "stdout",
          "text": [
            "\n",
            "Accuracy: 0.63\n"
          ]
        },
        {
          "output_type": "stream",
          "name": "stderr",
          "text": [
            "\n"
          ]
        }
      ]
    },
    {
      "cell_type": "markdown",
      "source": [
        "You can play around with the model in the following cell by giving it random words you can think of and see if it can guess the word or not. Feel free to reduce the number of wrong guesses allowed by changing the max_wrong_guesses parameter below. Can the model still guess your word if it did earlier?"
      ],
      "metadata": {
        "id": "bNYneVMdUHZB"
      }
    },
    {
      "cell_type": "code",
      "source": [
        "input_word = input(\"Enter a word for our model to guess: \")\n",
        "if input_word.isalpha():\n",
        "    _ = simulate_test_game(input_word.lower(), trained_model, max_wrong_guesses=10, verbose=2)\n",
        "else:\n",
        "    print(\"Please enter a valid word.\")"
      ],
      "metadata": {
        "id": "h7NktTqzMNM6",
        "colab": {
          "base_uri": "https://localhost:8080/"
        },
        "outputId": "b6f43313-f6fd-47ac-c66e-f1ed1a8f8dc1"
      },
      "execution_count": null,
      "outputs": [
        {
          "output_type": "stream",
          "name": "stdout",
          "text": [
            "Enter a word for our model to guess: international\n",
            "Guessing letter: i\n",
            "Hangman state: i*******i****\n",
            "Number of wrong guesses: 0\n",
            "Guessing letter: n\n",
            "Hangman state: in***n**i*n**\n",
            "Number of wrong guesses: 0\n",
            "Guessing letter: a\n",
            "Hangman state: in***na*i*na*\n",
            "Number of wrong guesses: 0\n",
            "Guessing letter: o\n",
            "Hangman state: in***na*iona*\n",
            "Number of wrong guesses: 0\n",
            "Guessing letter: t\n",
            "Hangman state: int**nationa*\n",
            "Number of wrong guesses: 0\n",
            "Guessing letter: e\n",
            "Hangman state: inte*nationa*\n",
            "Number of wrong guesses: 0\n",
            "Guessing letter: r\n",
            "Hangman state: internationa*\n",
            "Number of wrong guesses: 0\n",
            "Guessing letter: l\n",
            "Hangman state: international\n",
            "Number of wrong guesses: 0\n",
            "Correct word: international\n",
            "You win!\n"
          ]
        }
      ]
    },
    {
      "cell_type": "markdown",
      "source": [
        "## Detailed Analysis\n",
        "###Determining the natural calling order:\n",
        "\n",
        "Firstly, let us consider how hard our dataset. Remember that shorter words are much harder to guess than longer words. We will have a bit more intuition into this.\n"
      ],
      "metadata": {
        "id": "veZSO8SHu5rL"
      }
    },
    {
      "cell_type": "code",
      "source": [
        "from matplotlib import pyplot as plt\n",
        "from collections import Counter\n",
        "import numpy as np"
      ],
      "metadata": {
        "id": "91wi2RGMw1JU"
      },
      "execution_count": 12,
      "outputs": []
    },
    {
      "cell_type": "code",
      "source": [
        "!gdown 1957NeZsECBLPywjl_QGKaYq68DarcKVt"
      ],
      "metadata": {
        "colab": {
          "base_uri": "https://localhost:8080/"
        },
        "id": "TUCmjqQuxWN8",
        "outputId": "1a32f782-044f-442a-9c70-e43c37e1ff10"
      },
      "execution_count": 14,
      "outputs": [
        {
          "output_type": "stream",
          "name": "stdout",
          "text": [
            "Downloading...\n",
            "From: https://drive.google.com/uc?id=1957NeZsECBLPywjl_QGKaYq68DarcKVt\n",
            "To: /content/words_alpha.txt\n",
            "100% 4.23M/4.23M [00:00<00:00, 22.5MB/s]\n"
          ]
        }
      ]
    },
    {
      "cell_type": "code",
      "source": [
        "with open('words_alpha.txt', 'r') as f:\n",
        "    all_words = f.read().splitlines()"
      ],
      "metadata": {
        "id": "wKm9bIpQxoj6"
      },
      "execution_count": 15,
      "outputs": []
    },
    {
      "cell_type": "code",
      "source": [
        "# Get the word lengths and counts from the Counter dictionary\n",
        "word_lengths = Counter([len(word) for word in all_words])\n",
        "word_lengths = word_lengths.most_common()\n",
        "x_vals = [length for length, count in word_lengths]\n",
        "y_vals = [count for length, count in word_lengths]\n",
        "\n",
        "# Create the bar plot\n",
        "plt.bar(x_vals, y_vals)\n",
        "plt.xlabel(\"Word Length\")\n",
        "plt.ylabel(\"Number of Words\")\n",
        "plt.title(\"Distribution of Word Lengths in Dataset\")\n",
        "plt.show()\n"
      ],
      "metadata": {
        "colab": {
          "base_uri": "https://localhost:8080/",
          "height": 472
        },
        "id": "TAF3WcxSwC4Y",
        "outputId": "4ce3fac8-dc48-453c-9af4-95ba7dd367ea"
      },
      "execution_count": 20,
      "outputs": [
        {
          "output_type": "display_data",
          "data": {
            "text/plain": [
              "<Figure size 640x480 with 1 Axes>"
            ],
            "image/png": "[encoded data removed]"
          },
          "metadata": {}
        }
      ]
    },
    {
      "cell_type": "code",
      "source": [
        "word_dict = {}\n",
        "for length, count in word_lengths:\n",
        "  if 4 <= length <= 15:\n",
        "    word_dict[length] = []\n",
        "\n",
        "for word in all_words:\n",
        "    length = len(word)\n",
        "    if 4 <= length <= 15:\n",
        "        word_dict[length].append(word)"
      ],
      "metadata": {
        "id": "GecarcuRx_5Z"
      },
      "execution_count": 52,
      "outputs": []
    },
    {
      "cell_type": "code",
      "source": [
        "calling_order = {length: [] for length in word_dict}\n",
        "p_cutoff = 0.999\n",
        "for length in sorted(word_dict.keys()):\n",
        "    words = word_dict[length]\n",
        "    while len(words) / len(word_dict[length]) > 1 - p_cutoff:\n",
        "        most_frequent = Counter(''.join(words)).most_common(1)[0][0]\n",
        "        calling_order[length].append(most_frequent)\n",
        "        words = [word for word in words if most_frequent not in word]\n",
        "    print(f\"Length {length}: {calling_order[length]}\")"
      ],
      "metadata": {
        "colab": {
          "base_uri": "https://localhost:8080/"
        },
        "id": "iJDmTY5Uy-KH",
        "outputId": "72d9a57d-78e6-4d63-e229-75c6f59b9b30"
      },
      "execution_count": 61,
      "outputs": [
        {
          "output_type": "stream",
          "name": "stdout",
          "text": [
            "Length 4: ['a', 'e', 'o', 'i', 'u', 'y', 's', 'r', 'd', 't']\n",
            "Length 5: ['a', 'e', 'o', 'i', 'u', 'y']\n",
            "Length 6: ['e', 'a', 'o', 'i', 'u', 'y']\n",
            "Length 7: ['e', 'a', 'i', 'o', 'u']\n",
            "Length 8: ['e', 'a', 'i', 'o', 'u']\n",
            "Length 9: ['e', 'i', 'a', 'o']\n",
            "Length 10: ['e', 'i', 'o', 'a']\n",
            "Length 11: ['e', 'i', 'o', 'a']\n",
            "Length 12: ['e', 'i', 'o', 'a']\n",
            "Length 13: ['e', 'i', 'o', 'a']\n",
            "Length 14: ['i', 'e', 'o']\n",
            "Length 15: ['i', 'e', 'o']\n"
          ]
        }
      ]
    },
    {
      "cell_type": "markdown",
      "source": [
        "This is the calling order predicted by the entire dataset. This is the order in which one should guess if there are no correct guesses, yet.\n",
        "\n",
        "Clearly, we see that in our dataset shorter words are harder to guess as they have a longer calling order."
      ],
      "metadata": {
        "id": "3x3lcRWO5Nbe"
      }
    },
    {
      "cell_type": "markdown",
      "source": [
        "### Analyzing the model's performance on different word lengths"
      ],
      "metadata": {
        "id": "4MLzGz4t5EzG"
      }
    },
    {
      "cell_type": "markdown",
      "source": [
        "I will now sample 1000 words for each length 4 to 15 and get the accuracy of our model on them. Let us find out how our model fares in each case."
      ],
      "metadata": {
        "id": "M2pMUgqB6wea"
      }
    },
    {
      "cell_type": "code",
      "source": [
        "accuracy_lengths = {length: None for length in sorted(word_dict.keys())}\n",
        "N = 1000\n",
        "for length in sorted(word_dict.keys()):\n",
        "    print(f\"Length {length}:\")\n",
        "    words = np.random.choice(word_dict[length], N)\n",
        "    total_correct = 0\n",
        "    calling_order_counter = set([])\n",
        "    for i in tqdm(range(len(words))):\n",
        "        word = words[i]\n",
        "        if simulate_test_game(word, trained_model, max_wrong_guesses=6, verbose=0):\n",
        "            total_correct += 1\n",
        "    accuracy_lengths[length] = total_correct / N\n",
        "    print(f\"\\nAccuracy: {accuracy_lengths[length]}\")"
      ],
      "metadata": {
        "colab": {
          "base_uri": "https://localhost:8080/"
        },
        "id": "SjUgc9Zg7X0S",
        "outputId": "0ff4ad05-967f-441a-acf8-c42b40a598e6"
      },
      "execution_count": 87,
      "outputs": [
        {
          "output_type": "stream",
          "name": "stdout",
          "text": [
            "Length 4:\n"
          ]
        },
        {
          "output_type": "stream",
          "name": "stderr",
          "text": [
            "100%|██████████| 1000/1000 [02:05<00:00,  7.97it/s]\n"
          ]
        },
        {
          "output_type": "stream",
          "name": "stdout",
          "text": [
            "\n",
            "Accuracy: 0.187\n",
            "Length 5:\n"
          ]
        },
        {
          "output_type": "stream",
          "name": "stderr",
          "text": [
            "100%|██████████| 1000/1000 [02:16<00:00,  7.31it/s]\n"
          ]
        },
        {
          "output_type": "stream",
          "name": "stdout",
          "text": [
            "\n",
            "Accuracy: 0.276\n",
            "Length 6:\n"
          ]
        },
        {
          "output_type": "stream",
          "name": "stderr",
          "text": [
            "100%|██████████| 1000/1000 [02:25<00:00,  6.87it/s]\n"
          ]
        },
        {
          "output_type": "stream",
          "name": "stdout",
          "text": [
            "\n",
            "Accuracy: 0.33\n",
            "Length 7:\n"
          ]
        },
        {
          "output_type": "stream",
          "name": "stderr",
          "text": [
            "100%|██████████| 1000/1000 [02:35<00:00,  6.45it/s]\n"
          ]
        },
        {
          "output_type": "stream",
          "name": "stdout",
          "text": [
            "\n",
            "Accuracy: 0.458\n",
            "Length 8:\n"
          ]
        },
        {
          "output_type": "stream",
          "name": "stderr",
          "text": [
            "100%|██████████| 1000/1000 [02:43<00:00,  6.13it/s]\n"
          ]
        },
        {
          "output_type": "stream",
          "name": "stdout",
          "text": [
            "\n",
            "Accuracy: 0.556\n",
            "Length 9:\n"
          ]
        },
        {
          "output_type": "stream",
          "name": "stderr",
          "text": [
            "100%|██████████| 1000/1000 [02:49<00:00,  5.90it/s]\n"
          ]
        },
        {
          "output_type": "stream",
          "name": "stdout",
          "text": [
            "\n",
            "Accuracy: 0.68\n",
            "Length 10:\n"
          ]
        },
        {
          "output_type": "stream",
          "name": "stderr",
          "text": [
            "100%|██████████| 1000/1000 [02:57<00:00,  5.62it/s]\n"
          ]
        },
        {
          "output_type": "stream",
          "name": "stdout",
          "text": [
            "\n",
            "Accuracy: 0.725\n",
            "Length 11:\n"
          ]
        },
        {
          "output_type": "stream",
          "name": "stderr",
          "text": [
            "100%|██████████| 1000/1000 [02:59<00:00,  5.58it/s]\n"
          ]
        },
        {
          "output_type": "stream",
          "name": "stdout",
          "text": [
            "\n",
            "Accuracy: 0.838\n",
            "Length 12:\n"
          ]
        },
        {
          "output_type": "stream",
          "name": "stderr",
          "text": [
            "100%|██████████| 1000/1000 [02:59<00:00,  5.56it/s]\n"
          ]
        },
        {
          "output_type": "stream",
          "name": "stdout",
          "text": [
            "\n",
            "Accuracy: 0.875\n",
            "Length 13:\n"
          ]
        },
        {
          "output_type": "stream",
          "name": "stderr",
          "text": [
            "100%|██████████| 1000/1000 [03:02<00:00,  5.47it/s]\n"
          ]
        },
        {
          "output_type": "stream",
          "name": "stdout",
          "text": [
            "\n",
            "Accuracy: 0.913\n",
            "Length 14:\n"
          ]
        },
        {
          "output_type": "stream",
          "name": "stderr",
          "text": [
            "100%|██████████| 1000/1000 [03:05<00:00,  5.39it/s]\n"
          ]
        },
        {
          "output_type": "stream",
          "name": "stdout",
          "text": [
            "\n",
            "Accuracy: 0.946\n",
            "Length 15:\n"
          ]
        },
        {
          "output_type": "stream",
          "name": "stderr",
          "text": [
            "100%|██████████| 1000/1000 [03:07<00:00,  5.32it/s]"
          ]
        },
        {
          "output_type": "stream",
          "name": "stdout",
          "text": [
            "\n",
            "Accuracy: 0.959\n"
          ]
        },
        {
          "output_type": "stream",
          "name": "stderr",
          "text": [
            "\n"
          ]
        }
      ]
    },
    {
      "cell_type": "code",
      "source": [
        "plt.bar(accuracy_lengths.keys(), accuracy_lengths.values())\n",
        "plt.xlabel(\"Word Length\")\n",
        "plt.ylabel(\"Accuracy\")\n",
        "plt.title(\"Accuracy of Model on Different Word Lengths\")\n",
        "plt.show()"
      ],
      "metadata": {
        "colab": {
          "base_uri": "https://localhost:8080/",
          "height": 472
        },
        "id": "c1yM21JaOOEq",
        "outputId": "00f27a88-b18c-4ebb-f91d-7e8a653cc36e"
      },
      "execution_count": 88,
      "outputs": [
        {
          "output_type": "display_data",
          "data": {
            "text/plain": [
              "<Figure size 640x480 with 1 Axes>"
            ],
            "image/png": "[encoded data removed]"
          },
          "metadata": {}
        }
      ]
    }
  ]
}