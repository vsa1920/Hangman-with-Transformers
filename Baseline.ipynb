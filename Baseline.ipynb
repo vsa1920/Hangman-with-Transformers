{
  "nbformat": 4,
  "nbformat_minor": 0,
  "metadata": {
    "colab": {
      "provenance": []
    },
    "kernelspec": {
      "name": "python3",
      "display_name": "Python 3"
    },
    "language_info": {
      "name": "python"
    }
  },
  "cells": [
    {
      "cell_type": "code",
      "execution_count": 4,
      "metadata": {
        "colab": {
          "base_uri": "https://localhost:8080/"
        },
        "id": "oJtaE7XtPiJM",
        "outputId": "443c94ec-31d7-4fb4-ff7a-7532f79817fb"
      },
      "outputs": [
        {
          "output_type": "stream",
          "name": "stdout",
          "text": [
            "Accuracy with 6 tries: 0.23\n",
            "Accuracy with 10 tries: 0.56\n"
          ]
        }
      ],
      "source": [
        "import numpy as np\n",
        "import pandas as pd\n",
        "from collections import defaultdict, Counter\n",
        "import random\n",
        "\n",
        "# Step 1: Load the word list\n",
        "def load_words(filename):\n",
        "    with open(filename, 'r') as file:\n",
        "        words = file.read().splitlines()\n",
        "    return words\n",
        "\n",
        "# Step 2: Build N-gram models\n",
        "def build_ngrams(words):\n",
        "    unigrams = Counter()\n",
        "    bigrams = defaultdict(Counter)\n",
        "    trigrams = defaultdict(lambda: defaultdict(Counter))\n",
        "\n",
        "    for word in words:\n",
        "        # Adding boundary symbols for word beginning and end\n",
        "        padded_word = '^^' + word + '$'  # ^ - start, $ - end\n",
        "\n",
        "        # Unigrams\n",
        "        for char in word:\n",
        "            unigrams[char] += 1\n",
        "\n",
        "        # Bigrams and Trigrams\n",
        "        for i in range(len(padded_word) - 2):\n",
        "            bigrams[padded_word[i]][padded_word[i+1]] += 1\n",
        "            trigrams[padded_word[i]][padded_word[i+1]][padded_word[i+2]] += 1\n",
        "\n",
        "    return unigrams, bigrams, trigrams\n",
        "\n",
        "# Step 3: Guesser function using N-grams\n",
        "def ngram_guesser(mask, guessed, unigrams, bigrams, trigrams):\n",
        "    # Calculate character probabilities based on unigram, bigram, and trigram counts\n",
        "    char_probs = defaultdict(float)\n",
        "    alphabet = 'abcdefghijklmnopqrstuvwxyz'\n",
        "    for index in range(len(mask)):\n",
        "        if mask[index] == '_':\n",
        "            preceding = mask[max(0, index-1)]\n",
        "            preceding2 = mask[max(0, index-2)]\n",
        "\n",
        "            # Apply unigram, bigram, and trigram probabilities\n",
        "            for char in alphabet:\n",
        "                if char not in guessed:\n",
        "                    if index > 1 and preceding != '_' and preceding2 != '_':\n",
        "                        char_probs[char] += trigrams[preceding2][preceding][char]\n",
        "                    if index > 0 and preceding != '_':\n",
        "                        char_probs[char] += bigrams[preceding][char]\n",
        "                    char_probs[char] += unigrams[char]\n",
        "\n",
        "    # Pick the character with the highest probability that hasn't been guessed\n",
        "    best_guess = max(char_probs, key=char_probs.get, default=None)\n",
        "    return best_guess\n",
        "\n",
        "# Step 4: Hangman game function\n",
        "def play_hangman(secret_word, unigrams, bigrams, trigrams, max_mistakes=6):\n",
        "    mask = ['_'] * len(secret_word)\n",
        "    guessed = set()\n",
        "    mistakes = 0\n",
        "\n",
        "    while mistakes < max_mistakes and '_' in mask:\n",
        "        guess = ngram_guesser(mask, guessed, unigrams, bigrams, trigrams)\n",
        "        if guess in guessed or guess is None:\n",
        "            mistakes += 1  # Penalize repeated or invalid guesses\n",
        "            continue\n",
        "\n",
        "        guessed.add(guess)\n",
        "        if guess in secret_word:\n",
        "            for i, char in enumerate(secret_word):\n",
        "                if char == guess:\n",
        "                    mask[i] = char\n",
        "        else:\n",
        "            mistakes += 1\n",
        "\n",
        "    return ''.join(mask) == secret_word\n",
        "\n",
        "# Step 5: Evaluate model accuracy\n",
        "def evaluate_accuracy(words, unigrams, bigrams, trigrams, max_tries, num_tests=100):\n",
        "    random_sample = random.sample(words, num_tests)\n",
        "    success_count = sum(play_hangman(word, unigrams, bigrams, trigrams, max_tries) for word in random_sample)\n",
        "    accuracy = success_count / num_tests\n",
        "    return accuracy\n",
        "\n",
        "# Example usage\n",
        "words = load_words('words_corpus.txt')\n",
        "unigrams, bigrams, trigrams = build_ngrams(words)\n",
        "accuracy_6_tries = evaluate_accuracy(words, unigrams, bigrams, trigrams, 6)\n",
        "accuracy_10_tries = evaluate_accuracy(words, unigrams, bigrams, trigrams, 10)\n",
        "\n",
        "print(f\"Accuracy with 6 tries: {accuracy_6_tries:.2f}\")\n",
        "print(f\"Accuracy with 10 tries: {accuracy_10_tries:.2f}\")\n"
      ]
    }
  ]
}